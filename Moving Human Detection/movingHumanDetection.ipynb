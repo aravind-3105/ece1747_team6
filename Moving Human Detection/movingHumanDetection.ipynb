{
  "cells": [
    {
      "cell_type": "markdown",
      "metadata": {
        "id": "_XWMK10Cz6La"
      },
      "source": [
        "# Colab Notebook to run the codes"
      ]
    },
    {
      "cell_type": "code",
      "execution_count": 1,
      "metadata": {
        "id": "ijhRmBw4z6Lb"
      },
      "outputs": [],
      "source": [
        "from tqdm import tqdm\n",
        "import os\n",
        "import cv2\n",
        "from PIL import Image\n",
        "import imageio.v2 as imageio  # Explicitly use v2 to avoid deprecation warnings"
      ]
    },
    {
      "cell_type": "code",
      "execution_count": 2,
      "metadata": {
        "colab": {
          "base_uri": "https://localhost:8080/"
        },
        "id": "2DeYMuoX0SYQ",
        "outputId": "60a51575-d631-454e-ae99-3818a3606e21"
      },
      "outputs": [
        {
          "name": "stdout",
          "output_type": "stream",
          "text": [
            "Mon Dec  9 18:04:01 2024       \n",
            "+---------------------------------------------------------------------------------------+\n",
            "| NVIDIA-SMI 535.104.05             Driver Version: 535.104.05   CUDA Version: 12.2     |\n",
            "|-----------------------------------------+----------------------+----------------------+\n",
            "| GPU  Name                 Persistence-M | Bus-Id        Disp.A | Volatile Uncorr. ECC |\n",
            "| Fan  Temp   Perf          Pwr:Usage/Cap |         Memory-Usage | GPU-Util  Compute M. |\n",
            "|                                         |                      |               MIG M. |\n",
            "|=========================================+======================+======================|\n",
            "|   0  Tesla T4                       Off | 00000000:00:04.0 Off |                    0 |\n",
            "| N/A   45C    P8              12W /  70W |      0MiB / 15360MiB |      0%      Default |\n",
            "|                                         |                      |                  N/A |\n",
            "+-----------------------------------------+----------------------+----------------------+\n",
            "                                                                                         \n",
            "+---------------------------------------------------------------------------------------+\n",
            "| Processes:                                                                            |\n",
            "|  GPU   GI   CI        PID   Type   Process name                            GPU Memory |\n",
            "|        ID   ID                                                             Usage      |\n",
            "|=======================================================================================|\n",
            "|  No running processes found                                                           |\n",
            "+---------------------------------------------------------------------------------------+\n",
            "Your runtime has 13.6 gigabytes of available RAM\n",
            "\n",
            "Not using a high-RAM runtime\n"
          ]
        }
      ],
      "source": [
        "gpu_info = !nvidia-smi\n",
        "gpu_info = '\\n'.join(gpu_info)\n",
        "if gpu_info.find('failed') >= 0:\n",
        "  print('Not connected to a GPU')\n",
        "else:\n",
        "  print(gpu_info)\n",
        "\n",
        "from psutil import virtual_memory\n",
        "ram_gb = virtual_memory().total / 1e9\n",
        "print('Your runtime has {:.1f} gigabytes of available RAM\\n'.format(ram_gb))\n",
        "\n",
        "if ram_gb < 20:\n",
        "  print('Not using a high-RAM runtime')\n",
        "else:\n",
        "  print('You are using a high-RAM runtime!')"
      ]
    },
    {
      "cell_type": "markdown",
      "metadata": {
        "id": "65jsB753z6Lc"
      },
      "source": [
        "## Load drive"
      ]
    },
    {
      "cell_type": "code",
      "execution_count": null,
      "metadata": {
        "colab": {
          "base_uri": "https://localhost:8080/"
        },
        "collapsed": true,
        "id": "rU_Vr-VIz6Lc",
        "outputId": "e5f561d5-0cdc-4853-bb87-5920e66f8118"
      },
      "outputs": [],
      "source": [
        "# Load the drive and check\n",
        "from google.colab import drive\n",
        "drive.mount('/content/drive')\n",
        "!ls /content/drive/My\\ Drive/'ECE Parallel Programming'/Aravind/\n",
        "# Copy the backup.zip file to the current directory\n",
        "!cp /content/drive/My\\ Drive/'ECE Parallel Programming'/Aravind/backup.zip /content/\n",
        "# Unzip the backup file\n",
        "!unzip backup.zip"
      ]
    },
    {
      "cell_type": "code",
      "execution_count": 29,
      "metadata": {
        "id": "hMFKKHQZz6Lc"
      },
      "outputs": [],
      "source": [
        "# Clear the src/temp/ directory\n",
        "!rm -rf src/temp/\n",
        "!mkdir src/temp/"
      ]
    },
    {
      "cell_type": "markdown",
      "metadata": {
        "id": "IVwVgYftz6Lc"
      },
      "source": [
        "## Backup to drive"
      ]
    },
    {
      "cell_type": "code",
      "execution_count": null,
      "metadata": {
        "id": "3PdKJgENz6Ld"
      },
      "outputs": [],
      "source": [
        "# To save the labeled output to make a video\n",
        "\n",
        "# If using colab\n",
        "# !zip -r labeled_output.zip /content/collab_backup/combined_steps/labeled_output\n",
        "# !rm -rf /content/src/temp/labeled_output\n",
        "# !mkdir /content/src/temp/labeled_output\n",
        "\n",
        "# Else:\n",
        "!rm -rf src/temp/labeled_output\n",
        "!mkdir src/temp/labeled_output"
      ]
    },
    {
      "cell_type": "code",
      "execution_count": null,
      "metadata": {
        "colab": {
          "base_uri": "https://localhost:8080/"
        },
        "id": "DvQ1x2FPz6Ld",
        "outputId": "290f0034-6ef3-446e-f6a2-e4bb50556a18"
      },
      "outputs": [
        {
          "name": "stdout",
          "output_type": "stream",
          "text": [
            "5b_upscale  backup.zip\tdata  drive  include  models  performance_metrics  src\ttests\n"
          ]
        }
      ],
      "source": [
        "!ls"
      ]
    },
    {
      "cell_type": "code",
      "execution_count": null,
      "metadata": {
        "colab": {
          "base_uri": "https://localhost:8080/"
        },
        "collapsed": true,
        "id": "lejHDhFBz6Ld",
        "outputId": "0bbb66e2-fd66-4333-e356-76f72db83059"
      },
      "outputs": [],
      "source": [
        "# Zip the folder\n",
        "all_files = ['ece1747.ipynb','data/','include/',\n",
        "             'models/','performance_metrics/',\n",
        "             'src/','tests/']\n",
        "# Zip everything in above all_files\n",
        "!zip -r backup.zip {' '.join(all_files)}"
      ]
    },
    {
      "cell_type": "code",
      "execution_count": 32,
      "metadata": {
        "colab": {
          "base_uri": "https://localhost:8080/"
        },
        "id": "P_broX1gz6Ld",
        "outputId": "3a664a63-093a-4a02-f7ad-ce46881f1eec"
      },
      "outputs": [
        {
          "name": "stdout",
          "output_type": "stream",
          "text": [
            "945M\tbackup.zip\n"
          ]
        }
      ],
      "source": [
        "!du -sh backup.zip"
      ]
    },
    {
      "cell_type": "code",
      "execution_count": 33,
      "metadata": {
        "colab": {
          "base_uri": "https://localhost:8080/"
        },
        "id": "a0MpgQ2ez6Le",
        "outputId": "fe4fbca1-894d-4b15-f3a8-6f09f4d5d19f"
      },
      "outputs": [
        {
          "name": "stdout",
          "output_type": "stream",
          "text": [
            "backup_v1.zip  backup_v2.zip  backup.zip\n"
          ]
        }
      ],
      "source": [
        "!cp backup.zip /content/drive/MyDrive/ECE\\ Parallel\\ Programming/Aravind/\n",
        "!ls /content/drive/MyDrive/ECE\\ Parallel\\ Programming/Aravind/"
      ]
    },
    {
      "cell_type": "markdown",
      "metadata": {
        "id": "-PudvWuez6Le"
      },
      "source": [
        "## Upscaled Images"
      ]
    },
    {
      "cell_type": "markdown",
      "metadata": {
        "id": "kqCIhYKzz6Le"
      },
      "source": [
        "### Generate the upscaled images"
      ]
    },
    {
      "cell_type": "code",
      "execution_count": 5,
      "metadata": {
        "colab": {
          "base_uri": "https://localhost:8080/"
        },
        "id": "bbY34JBPz6Le",
        "outputId": "d87ff3c5-e760-4a89-b2a8-ac082fd66688"
      },
      "outputs": [
        {
          "name": "stderr",
          "output_type": "stream",
          "text": [
            "100%|██████████| 2031/2031 [01:05<00:00, 31.01it/s]\n"
          ]
        }
      ],
      "source": [
        "# Create folders 1b/1x 1b/2x 1b/3x/ 1b/4x and make different versions of the upscaled image\n",
        "subfolder_parent_upscale = \"5b\"\n",
        "folder_parent_upscale = \"upscale\"\n",
        "folder_parent_upscale = f\"{subfolder_parent_upscale}_{folder_parent_upscale}\"\n",
        "folder_names = [\"1x\", \"2x\", \"3x\", \"4x\"]\n",
        "folder_names = [f\"{folder_parent_upscale}/{folder_name}\" for folder_name in folder_names]\n",
        "\n",
        "for folder_name in folder_names:\n",
        "    os.makedirs(folder_name, exist_ok=True)\n",
        "\n",
        "\n",
        "def upscale(image, factor):\n",
        "    height, width = image.shape[:2]\n",
        "    new_height = int(height * factor)\n",
        "    new_width = int(width * factor)\n",
        "    image_upscaled = cv2.resize(image, (new_width, new_height), interpolation=cv2.INTER_CUBIC)\n",
        "    return image_upscaled\n",
        "\n",
        "# Run through each image in 5b\n",
        "files = os.listdir(f\"/content/data/OSUdata/{subfolder_parent_upscale}\")\n",
        "for file in tqdm(files):\n",
        "    for i in range(1, 5):\n",
        "        image = cv2.imread(f\"/content/data/OSUdata/{subfolder_parent_upscale}/{file}\")\n",
        "        image_upscaled = upscale(image, i)\n",
        "        cv2.imwrite(f\"{folder_parent_upscale}/{i}x/{file}\", image_upscaled)"
      ]
    },
    {
      "cell_type": "code",
      "execution_count": null,
      "metadata": {
        "id": "OMqs7iro67EU"
      },
      "outputs": [],
      "source": [
        "# !rm -rf /content/5b_upscale"
      ]
    },
    {
      "cell_type": "markdown",
      "metadata": {
        "id": "QoqMAgZ7z6Le"
      },
      "source": [
        "### Get the upscaled images' background"
      ]
    },
    {
      "cell_type": "code",
      "execution_count": 9,
      "metadata": {
        "id": "6tdrOakhz6Le"
      },
      "outputs": [],
      "source": [
        "!nvcc -c tests/gmm.cu -o tests/gmm.o\n",
        "\n",
        "\n",
        "!g++ tests/get_background.cpp \\\n",
        "    tests/gmm.o -o \\\n",
        "    tests/get_background \\\n",
        "    -I/usr/include/opencv4 -I/usr/local/cuda/include \\\n",
        "    -L/usr/lib -L/usr/local/cuda/lib64 -lopencv_core \\\n",
        "    -lopencv_imgproc -lopencv_highgui -lopencv_imgcodecs \\\n",
        "    -lopencv_features2d -lcudart -lcufft"
      ]
    },
    {
      "cell_type": "code",
      "execution_count": 10,
      "metadata": {
        "colab": {
          "base_uri": "https://localhost:8080/"
        },
        "id": "91SWyO--mxJQ",
        "outputId": "cc6a6ce3-560b-4215-94a2-3930e9c5a256"
      },
      "outputs": [
        {
          "name": "stdout",
          "output_type": "stream",
          "text": [
            "Free memory: 14999 MB, Total memory: 15102 MB\n",
            "Processing folder: /content/5b_upscale/4x\n",
            "Number of frames: 508\n",
            "Kernel execution started. Processing pixel (0, 0).\n",
            "Background generation kernel started. Processing pixel (0, 0).\n",
            "Background saved to background_4x.png\n",
            "Time taken for /content/5b_upscale/4x: 134412 ms\n",
            "Processing folder: /content/5b_upscale/3x\n",
            "Number of frames: 508\n",
            "Kernel execution started. Processing pixel (0, 0).\n",
            "Background generation kernel started. Processing pixel (0, 0).\n",
            "Background saved to background_3x.png\n",
            "Time taken for /content/5b_upscale/3x: 77915 ms\n",
            "Processing folder: /content/5b_upscale/2x\n",
            "Number of frames: 508\n",
            "Kernel execution started. Processing pixel (0, 0).\n",
            "Background generation kernel started. Processing pixel (0, 0).\n",
            "Background saved to background_2x.png\n",
            "Time taken for /content/5b_upscale/2x: 34681 ms\n",
            "Processing folder: /content/5b_upscale/1x\n",
            "Number of frames: 508\n",
            "Kernel execution started. Processing pixel (0, 0).\n",
            "Background generation kernel started. Processing pixel (0, 0).\n",
            "Background saved to background_1x.png\n",
            "Time taken for /content/5b_upscale/1x: 9689 ms\n"
          ]
        }
      ],
      "source": [
        "!./tests/get_background /content/5b_upscale"
      ]
    },
    {
      "cell_type": "markdown",
      "metadata": {
        "id": "yQYyI0aPz6Le"
      },
      "source": [
        "## Metrics Calculation"
      ]
    },
    {
      "cell_type": "markdown",
      "metadata": {
        "id": "FM5rVxkuz6Le"
      },
      "source": [
        "#### HOG CPU and GPU"
      ]
    },
    {
      "cell_type": "code",
      "execution_count": 13,
      "metadata": {
        "colab": {
          "base_uri": "https://localhost:8080/"
        },
        "id": "SjPpu7e-KbS4",
        "outputId": "13cf3a8d-fc32-4e71-e9d3-f91d3ce48715"
      },
      "outputs": [
        {
          "name": "stdout",
          "output_type": "stream",
          "text": [
            "g++ -std=c++17 -I. -I/usr/include/opencv4 -c hog_descriptor_test.cpp -o hog_descriptor_test.o\n",
            "g++ -o hog_descriptor_test hog_descriptor_cpu.o hog_descriptor_test.o hog_descriptor.o -L/usr/lib -L/usr/local/cuda/lib64 -lopencv_core -lopencv_imgproc -lopencv_highgui -lopencv_imgcodecs -lcudart \n"
          ]
        }
      ],
      "source": [
        "!cd tests/hog_tests && make"
      ]
    },
    {
      "cell_type": "code",
      "execution_count": 14,
      "metadata": {
        "colab": {
          "base_uri": "https://localhost:8080/"
        },
        "id": "D_jWZYJpLgW-",
        "outputId": "9eb0ce45-4627-42b5-903d-e87234126732"
      },
      "outputs": [
        {
          "name": "stdout",
          "output_type": "stream",
          "text": [
            "HOG Descriptor Test Results:\n",
            "GPU Version Time: 8.342 ms\n",
            "CPU Version Time: 125.821 ms\n"
          ]
        }
      ],
      "source": [
        "!./tests/hog_tests/hog_descriptor_test tests/hog_tests/test.png"
      ]
    },
    {
      "cell_type": "markdown",
      "metadata": {
        "id": "WKCfaLTsz6Lf"
      },
      "source": [
        "#### FOURIER CPU and GPU"
      ]
    },
    {
      "cell_type": "code",
      "execution_count": 17,
      "metadata": {
        "colab": {
          "base_uri": "https://localhost:8080/"
        },
        "id": "afq5-XC_W3IF",
        "outputId": "9f26c91d-03a9-4439-c7ca-2340de074a80"
      },
      "outputs": [
        {
          "name": "stdout",
          "output_type": "stream",
          "text": [
            "g++ -std=c++17 -I. -I/usr/include/opencv4 -I/usr/local/cuda/include -c fourier_descriptor_test.cpp -o fourier_descriptor_test.o\n",
            "g++ -std=c++17 -I. -I/usr/include/opencv4 -I/usr/local/cuda/include -c fourier_descriptor_cpu.cpp -o fourier_descriptor_cpu.o\n",
            "nvcc -std=c++17 -I. -I/usr/include/opencv4 -diag-suppress=611 -c fourier_descriptor.cu -o fourier_descriptor.o\n",
            "g++ -o fourier_descriptor_test fourier_descriptor_test.o fourier_descriptor_cpu.o fourier_descriptor.o -L/usr/lib -L/usr/local/cuda/lib64 -lopencv_core -lopencv_imgproc -lopencv_highgui -lopencv_imgcodecs -lcudart -lcufft\n"
          ]
        }
      ],
      "source": [
        "!cd tests/fourier_tests && make"
      ]
    },
    {
      "cell_type": "code",
      "execution_count": 18,
      "metadata": {
        "colab": {
          "base_uri": "https://localhost:8080/"
        },
        "id": "MI3sOuB5ZQgh",
        "outputId": "d2d6005b-f32d-4af8-edf8-4c7ac8495ccd"
      },
      "outputs": [
        {
          "name": "stdout",
          "output_type": "stream",
          "text": [
            "Fourier Descriptor Test Results:\n",
            "CPU Version Time: 8.25898 ms\n",
            "GPU Version Time: 0.216808 ms\n"
          ]
        }
      ],
      "source": [
        "!./tests/fourier_tests/fourier_descriptor_test tests/bounding_images/binary_bounding_1.png"
      ]
    },
    {
      "cell_type": "markdown",
      "metadata": {
        "id": "MrBI7vtIgbPO"
      },
      "source": [
        "#### GMM CPU and GPU"
      ]
    },
    {
      "cell_type": "code",
      "execution_count": 19,
      "metadata": {
        "colab": {
          "base_uri": "https://localhost:8080/"
        },
        "collapsed": true,
        "id": "HZw1ul-Gmqt5",
        "outputId": "5a7da807-e714-4cf8-b6b6-7098b65da542"
      },
      "outputs": [
        {
          "name": "stdout",
          "output_type": "stream",
          "text": [
            "nvcc -std=c++17 -I. -I/usr/include/opencv4 -diag-suppress=611 -c gmm_test.cu -o gmm_test.o\n",
            "g++ -o gmm_test gmm_cpu.o gmm_test.o -L/usr/lib -L/usr/local/cuda/lib64 -lopencv_core -lopencv_imgproc -lopencv_highgui -lopencv_imgcodecs -lcudart -lcufft\n"
          ]
        }
      ],
      "source": [
        "!cd tests/gmm_tests && make"
      ]
    },
    {
      "cell_type": "code",
      "execution_count": null,
      "metadata": {
        "colab": {
          "base_uri": "https://localhost:8080/"
        },
        "id": "3FmcwEqEr2VI",
        "outputId": "d2cdc3e9-62d5-4654-a935-556443e24d6d"
      },
      "outputs": [
        {
          "name": "stdout",
          "output_type": "stream",
          "text": [
            "GMM Test Results:\n",
            "CPU Version Time: 45848 ms\n"
          ]
        }
      ],
      "source": [
        "!./tests/gmm_tests/gmm_test tests/gmm_tests/test_imgs/1x"
      ]
    },
    {
      "cell_type": "code",
      "execution_count": null,
      "metadata": {
        "colab": {
          "base_uri": "https://localhost:8080/"
        },
        "id": "Yj14hhActtl6",
        "outputId": "fc5d4edd-785a-4995-8b31-77ccdab1165f"
      },
      "outputs": [
        {
          "name": "stdout",
          "output_type": "stream",
          "text": [
            "GMM Test Results:\n",
            "CPU Version Time: 168161 ms\n"
          ]
        }
      ],
      "source": [
        "!./tests/gmm_tests/gmm_test tests/gmm_tests/test_imgs/2x"
      ]
    },
    {
      "cell_type": "code",
      "execution_count": null,
      "metadata": {
        "colab": {
          "base_uri": "https://localhost:8080/"
        },
        "id": "vqAIHUmptubj",
        "outputId": "fd2eff89-86f8-49a9-f81e-9b03fe4c1d3e"
      },
      "outputs": [
        {
          "name": "stdout",
          "output_type": "stream",
          "text": [
            "GMM Test Results:\n",
            "CPU Version Time: 374805 ms\n"
          ]
        }
      ],
      "source": [
        "!./tests/gmm_tests/gmm_test tests/gmm_tests/test_imgs/3x"
      ]
    },
    {
      "cell_type": "code",
      "execution_count": null,
      "metadata": {
        "colab": {
          "base_uri": "https://localhost:8080/"
        },
        "id": "RI8zyV4otvr6",
        "outputId": "350c6155-6a5b-4679-d9d1-ec29c8cbc551"
      },
      "outputs": [
        {
          "name": "stdout",
          "output_type": "stream",
          "text": [
            "GMM Test Results:\n",
            "CPU Version Time: 669370 ms\n"
          ]
        }
      ],
      "source": [
        "!./tests/gmm_tests/gmm_test tests/gmm_tests/test_imgs/4x"
      ]
    },
    {
      "cell_type": "markdown",
      "metadata": {
        "id": "Qoe4MuCaz6Lf"
      },
      "source": [
        "#### If any nvidia issues:"
      ]
    },
    {
      "cell_type": "code",
      "execution_count": 20,
      "metadata": {
        "colab": {
          "base_uri": "https://localhost:8080/"
        },
        "id": "nYs-Z0u-z6Lf",
        "outputId": "9e882fff-0f2b-4c00-d998-f63e5f38504d"
      },
      "outputs": [
        {
          "name": "stdout",
          "output_type": "stream",
          "text": [
            "Mon Dec  9 18:19:37 2024       \n",
            "+---------------------------------------------------------------------------------------+\n",
            "| NVIDIA-SMI 535.104.05             Driver Version: 535.104.05   CUDA Version: 12.2     |\n",
            "|-----------------------------------------+----------------------+----------------------+\n",
            "| GPU  Name                 Persistence-M | Bus-Id        Disp.A | Volatile Uncorr. ECC |\n",
            "| Fan  Temp   Perf          Pwr:Usage/Cap |         Memory-Usage | GPU-Util  Compute M. |\n",
            "|                                         |                      |               MIG M. |\n",
            "|=========================================+======================+======================|\n",
            "|   0  Tesla T4                       Off | 00000000:00:04.0 Off |                    0 |\n",
            "| N/A   41C    P8              11W /  70W |      0MiB / 15360MiB |      0%      Default |\n",
            "|                                         |                      |                  N/A |\n",
            "+-----------------------------------------+----------------------+----------------------+\n",
            "                                                                                         \n",
            "+---------------------------------------------------------------------------------------+\n",
            "| Processes:                                                                            |\n",
            "|  GPU   GI   CI        PID   Type   Process name                            GPU Memory |\n",
            "|        ID   ID                                                             Usage      |\n",
            "|=======================================================================================|\n",
            "|  No running processes found                                                           |\n",
            "+---------------------------------------------------------------------------------------+\n"
          ]
        }
      ],
      "source": [
        "!nvidia-smi"
      ]
    },
    {
      "cell_type": "markdown",
      "metadata": {
        "id": "wIGKbxv5z6Lf"
      },
      "source": [
        "## Convert images to .gif"
      ]
    },
    {
      "cell_type": "code",
      "execution_count": null,
      "metadata": {
        "id": "a63DpDVFz6Lf"
      },
      "outputs": [],
      "source": [
        "def create_gif_with_ffmpeg(image_folder, output_name, fps):\n",
        "    # Sort images alphabetically\n",
        "    images = sorted([os.path.join(image_folder, f) for f in os.listdir(image_folder) if f.endswith(('png', 'jpg', 'jpeg'))])\n",
        "    if not images:\n",
        "        print(f\"No images found in the folder: {image_folder}\")\n",
        "        return\n",
        "\n",
        "    # Load images into a list\n",
        "    frames = []\n",
        "    for image_path in images:\n",
        "        frames.append(imageio.imread(image_path))  # Use imageio.v2.imread explicitly\n",
        "\n",
        "    # Output GIF path\n",
        "    output_path = os.path.join(f\"{output_name}_{fps}fps.gif\")\n",
        "    # Write GIF using ffmpeg\n",
        "    imageio.mimsave(output_path, frames, format=\"GIF\", fps=fps)\n",
        "    print(f\"GIF saved at {output_path}\")"
      ]
    },
    {
      "cell_type": "code",
      "execution_count": null,
      "metadata": {
        "id": "0yGJwa46z6Lf"
      },
      "outputs": [],
      "source": [
        "# If enabled in src folder only\n",
        "# image_folder = \"./src/temp/labeled_output/\"\n",
        "# # If colab, use the following path instead\n",
        "# # image_folder = \"/content/src/temp/labeled_output/\"\n",
        "\n",
        "# # Target size for resizing (optional, adjust as needed)\n",
        "# resize_to = (80, 60)  # Width, Height. Set to None to skip resizing.\n",
        "\n",
        "# # Create GIFs for different frame rates\n",
        "# for fps in [30, 60, 90]:\n",
        "#     create_gif_with_ffmpeg(image_folder, \"animated\", fps, resize_to=resize_to)"
      ]
    },
    {
      "cell_type": "markdown",
      "metadata": {
        "id": "VhGHNp3Lz6Lf"
      },
      "source": [
        "# Run main code"
      ]
    },
    {
      "cell_type": "code",
      "execution_count": 24,
      "metadata": {
        "colab": {
          "base_uri": "https://localhost:8080/"
        },
        "collapsed": true,
        "id": "X4PGyhrFz6Lf",
        "outputId": "c9c77233-2406-4344-a382-7d7ab865dd5b"
      },
      "outputs": [
        {
          "name": "stdout",
          "output_type": "stream",
          "text": [
            "g++ -std=c++17 -I/usr/include/opencv4 -I/usr/local/cuda/include -I../include -c main.cpp -o build/main.o\n",
            "g++ -o human_detection build/main.o build/fourier_descriptor.o build/gmm.o build/hog_descriptor.o -L/usr/lib -lopencv_core -lopencv_imgproc -lopencv_highgui -lopencv_imgcodecs -lopencv_ml -lopencv_objdetect -lopencv_features2d -lopencv_flann -L/usr/local/cuda/lib64 -lcudart -lcufft\n"
          ]
        }
      ],
      "source": [
        "!cd src/ && make"
      ]
    },
    {
      "cell_type": "code",
      "execution_count": null,
      "metadata": {
        "colab": {
          "base_uri": "https://localhost:8080/"
        },
        "collapsed": true,
        "id": "oiqdLepiz6Lf",
        "outputId": "5be86b2c-62cf-4b09-af38-e88fe2d74a22"
      },
      "outputs": [],
      "source": [
        "!cd src/ && ./human_detection"
      ]
    }
  ],
  "metadata": {
    "accelerator": "GPU",
    "colab": {
      "gpuType": "T4",
      "provenance": []
    },
    "kernelspec": {
      "display_name": "Python 3",
      "name": "python3"
    },
    "language_info": {
      "codemirror_mode": {
        "name": "ipython",
        "version": 3
      },
      "file_extension": ".py",
      "mimetype": "text/x-python",
      "name": "python",
      "nbconvert_exporter": "python",
      "pygments_lexer": "ipython3",
      "version": "3.13.0"
    }
  },
  "nbformat": 4,
  "nbformat_minor": 0
}
